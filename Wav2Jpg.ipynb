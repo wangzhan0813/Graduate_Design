{
 "cells": [
  {
   "cell_type": "markdown",
   "id": "3ea11d66-6e25-45e9-9fe7-7c8c69a06632",
   "metadata": {
    "tags": []
   },
   "source": [
    "# 用来将wav音频转成多普勒频移谱"
   ]
  },
  {
   "cell_type": "markdown",
   "id": "df054fd6-a7a4-4767-af57-eb0a4ede6a78",
   "metadata": {
    "tags": []
   },
   "source": [
    "### 对音频进行傅里叶变换，抹掉低频噪音后再重新生成wav"
   ]
  },
  {
   "cell_type": "code",
   "execution_count": 15,
   "id": "30c4d732-300c-40fc-8434-2754c45c46e9",
   "metadata": {},
   "outputs": [],
   "source": [
    "import wave as we\n",
    "import numpy as np\n",
    "import matplotlib.pyplot as plt\n",
    "import os\n",
    "import sys\n",
    "import scipy.signal as signal\n",
    "import librosa\n",
    "import librosa.display\n",
    "import torch\n",
    "import pickle\n",
    "\n",
    "np.set_printoptions(suppress=True)"
   ]
  },
  {
   "cell_type": "code",
   "execution_count": 16,
   "id": "5f06a23e-e5c4-4719-819e-c11cd3824181",
   "metadata": {},
   "outputs": [],
   "source": [
    "def read_wav1(path):\n",
    "    #读出wav文件\n",
    "    y, sr = librosa.load(path, sr=48000,mono=False)\n",
    "    return y,sr"
   ]
  },
  {
   "cell_type": "code",
   "execution_count": 17,
   "id": "bc88688c-ce23-45ad-bf3f-302fd2df36af",
   "metadata": {},
   "outputs": [],
   "source": [
    "def fft_wav(waveData, framerate):\n",
    "    #对waveData数据进行傅里叶变换\n",
    "    f_array = np.fft.fft(waveData)\n",
    "    axis_f = np.linspace(0, int(framerate/2), int(len(f_array)/2))\n",
    "    return f_array"
   ]
  },
  {
   "cell_type": "code",
   "execution_count": 18,
   "id": "091c6b92-d205-4ac9-a7c8-ae67fa00ae46",
   "metadata": {},
   "outputs": [],
   "source": [
    "def transform_high_fram(wavefft,framerate,minf,plots=False):\n",
    "    #抹掉低频信号\n",
    "    step_hz=(framerate/2) / (len(wavefft) / 2)\n",
    "    savewav = []\n",
    "    for i in range(int(minf/step_hz)):\n",
    "        savewav.append(0)\n",
    "    for i in range(int(minf/step_hz),len(wavefft)-int(minf/step_hz)):\n",
    "        savewav.append(wavefft[i])\n",
    "    for i in range(len(wavefft)-int(minf/step_hz),len(wavefft)):\n",
    "        savewav.append(0)\n",
    "    return savewav"
   ]
  },
  {
   "cell_type": "code",
   "execution_count": 19,
   "id": "3cd06356-cf53-4182-a300-4508580414b0",
   "metadata": {},
   "outputs": [],
   "source": [
    "def ffti_wav(savewav,filename,sr):\n",
    "    #傅里叶逆变换保存文件\n",
    "    i_array = np.fft.ifft(savewav)\n",
    "    save_wav = i_array.real.reshape(len(i_array))\n",
    "    save_wav=np.asfortranarray(save_wav.astype(np.float32))\n",
    "    librosa.output.write_wav(filename,save_wav,sr)"
   ]
  },
  {
   "cell_type": "markdown",
   "id": "f91be894-27ee-4f54-8097-f871a2cb66f4",
   "metadata": {},
   "source": [
    "##### 主函数"
   ]
  },
  {
   "cell_type": "code",
   "execution_count": 20,
   "id": "61f66cdf-a1df-4314-9af1-bf25bcb2fbfc",
   "metadata": {
    "scrolled": true,
    "tags": []
   },
   "outputs": [
    {
     "name": "stdout",
     "output_type": "stream",
     "text": [
      "person1\n",
      "person2\n",
      "person3\n",
      "person4\n",
      "person5\n",
      "person6\n",
      "person7\n",
      "person8\n",
      "1.wav OK!\n",
      "10.wav OK!\n",
      "11.wav OK!\n",
      "2.wav OK!\n",
      "3.wav OK!\n",
      "4.wav OK!\n",
      "5.wav OK!\n",
      "6.wav OK!\n",
      "7.wav OK!\n",
      "8.wav OK!\n",
      "9.wav OK!\n"
     ]
    }
   ],
   "source": [
    "actions = os.listdir('./wav/src_wav')\n",
    "\n",
    "for action in actions:\n",
    "    folder='./wav/src_wav/'+action\n",
    "    print(action)\n",
    "    if 'person8' not in action:\n",
    "        continue\n",
    "    os.mkdir('./wav/high_wav/'+action)\n",
    "    for filename in os.listdir(folder):\n",
    "        if 'wav' not in filename:\n",
    "            continue\n",
    "        waveData, sr= read_wav1(folder+'/'+filename)\n",
    "        f_array = fft_wav(waveData, sr)\n",
    "        savewav=transform_high_fram(f_array,sr,18000)\n",
    "        ffti_wav(savewav,'./wav/high_wav/'+action+'/'+filename,sr)\n",
    "        print(filename+' OK!')"
   ]
  },
  {
   "cell_type": "markdown",
   "id": "57e05d18-62c3-4b17-975e-f7648642b278",
   "metadata": {
    "tags": []
   },
   "source": [
    "### 对音频进行傅里叶变换，抹掉超声频率后再重新生成wav"
   ]
  },
  {
   "cell_type": "code",
   "execution_count": 21,
   "id": "207dafde-ada6-4802-8478-069f9f01e81a",
   "metadata": {},
   "outputs": [],
   "source": [
    "def read_wav3(path):\n",
    "    #读出wav文件\n",
    "    y, sr = librosa.load(path, sr=None,mono=False)\n",
    "    return y,sr"
   ]
  },
  {
   "cell_type": "code",
   "execution_count": 22,
   "id": "4116a2fa-658d-4541-9fe8-a23d46120b18",
   "metadata": {},
   "outputs": [],
   "source": [
    "def transform_low_fram(wavefft,framerate,minf,plots=False):\n",
    "    #抹掉高频信号\n",
    "    step_hz=(framerate/2) / (len(wavefft) / 2)\n",
    "    savewav = []\n",
    "    for i in range(int(minf/step_hz)):\n",
    "        savewav.append(wavefft[i])\n",
    "    for i in range(int(minf/step_hz),len(wavefft)-int(minf/step_hz)):\n",
    "        savewav.append(0)\n",
    "    for i in range(len(wavefft)-int(minf/step_hz),len(wavefft)):\n",
    "        savewav.append(wavefft[i])\n",
    "    return savewav"
   ]
  },
  {
   "cell_type": "code",
   "execution_count": 23,
   "id": "41042503-0ff5-43cc-acf8-e70b91bcb50b",
   "metadata": {
    "scrolled": true,
    "tags": []
   },
   "outputs": [
    {
     "name": "stdout",
     "output_type": "stream",
     "text": [
      "person1\n",
      "person2\n",
      "person3\n",
      "person4\n",
      "person5\n",
      "person6\n",
      "person7\n",
      "person8\n",
      "1.wav OK!\n",
      "10.wav OK!\n",
      "11.wav OK!\n",
      "2.wav OK!\n",
      "3.wav OK!\n",
      "4.wav OK!\n",
      "5.wav OK!\n",
      "6.wav OK!\n",
      "7.wav OK!\n",
      "8.wav OK!\n",
      "9.wav OK!\n"
     ]
    }
   ],
   "source": [
    "actions = os.listdir('./wav/src_wav')\n",
    "\n",
    "for action in actions:\n",
    "    folder='./wav/src_wav/'+action\n",
    "    print(action)\n",
    "    if 'person8' not in action:\n",
    "        continue\n",
    "    os.mkdir('./wav/low_wav/'+action)\n",
    "    for filename in os.listdir(folder):\n",
    "        if 'wav' not in filename:\n",
    "            continue\n",
    "        waveData, framerate = read_wav3(folder+'/'+filename)\n",
    "        f_array = fft_wav(waveData, framerate)\n",
    "        savewav=transform_low_fram(f_array,framerate,18000)\n",
    "        ffti_wav(savewav,'./wav/low_wav/'+action+'/'+filename,framerate)\n",
    "        print(filename+' OK!')"
   ]
  },
  {
   "cell_type": "markdown",
   "id": "da09d043-22ab-4b5a-b081-da839afa966e",
   "metadata": {
    "tags": []
   },
   "source": [
    "### 对超声波的wav文件进行stft变换，生成多普勒频移谱"
   ]
  },
  {
   "cell_type": "code",
   "execution_count": 24,
   "id": "147c1d78-f957-4c93-92a9-0950aef4f26a",
   "metadata": {},
   "outputs": [],
   "source": [
    "def read_wav2(path):\n",
    "    #读取wav文件\n",
    "    y, sr = librosa.load(path, sr=48000,mono=False)\n",
    "    return y,sr"
   ]
  },
  {
   "cell_type": "code",
   "execution_count": 25,
   "id": "1ed94ab7-0111-4c80-9806-60abb7997940",
   "metadata": {},
   "outputs": [],
   "source": [
    "def plot_stft(y,sr,path):\n",
    "    #进行stft变换\n",
    "    nfft=int(sr*0.7)\n",
    "    \n",
    "    data = librosa.amplitude_to_db(np.abs(librosa.stft(y,n_fft=nfft,hop_length=int(nfft/30))), ref=np.max)\n",
    "    plt.figure()\n",
    "\n",
    "    librosa.display.specshow(data[12500:], sr=sr, x_axis='time', y_axis='linear')\n",
    "    plt.tight_layout()\n",
    "    plt.axis('off')\n",
    "\n",
    "    plt.savefig(path,bbox_inches='tight', pad_inches=0.0)\n",
    "    plt.close()"
   ]
  },
  {
   "cell_type": "markdown",
   "id": "36714256-8aa1-4031-a81a-8986522e7e34",
   "metadata": {},
   "source": [
    "##### 主函数"
   ]
  },
  {
   "cell_type": "code",
   "execution_count": 26,
   "id": "4e2ce1fc-4863-4313-90ae-496e5bb140bf",
   "metadata": {
    "scrolled": true,
    "tags": []
   },
   "outputs": [
    {
     "name": "stdout",
     "output_type": "stream",
     "text": [
      "person8\n",
      "1.wav ok\n",
      "10.wav ok\n",
      "11.wav ok\n",
      "2.wav ok\n",
      "3.wav ok\n",
      "4.wav ok\n",
      "5.wav ok\n",
      "6.wav ok\n",
      "7.wav ok\n",
      "8.wav ok\n",
      "9.wav ok\n"
     ]
    }
   ],
   "source": [
    "actions = os.listdir('./wav/high_wav')\n",
    "for action in actions:\n",
    "    folder='./wav/high_wav/'+action\n",
    "    if '8' not in action:\n",
    "            continue\n",
    "    os.mkdir('./model_data/Doppler_pic/'+action)\n",
    "    print(action)\n",
    "    for filename in os.listdir(folder):\n",
    "        print(filename+' ok')\n",
    "        wavaData, framerate = read_wav2(folder+'/'+filename)\n",
    "        path='./model_data/Doppler_pic/'+action+'/'+filename[:len(filename)-4]+'.jpg'\n",
    "        plot_stft(wavaData, framerate,path)"
   ]
  },
  {
   "cell_type": "code",
   "execution_count": null,
   "id": "5c7737c7-fe56-45b9-be7f-1cdbb075d59b",
   "metadata": {},
   "outputs": [],
   "source": []
  }
 ],
 "metadata": {
  "kernelspec": {
   "display_name": "Python 3",
   "language": "python",
   "name": "python3"
  },
  "language_info": {
   "codemirror_mode": {
    "name": "ipython",
    "version": 3
   },
   "file_extension": ".py",
   "mimetype": "text/x-python",
   "name": "python",
   "nbconvert_exporter": "python",
   "pygments_lexer": "ipython3",
   "version": "3.6.9"
  }
 },
 "nbformat": 4,
 "nbformat_minor": 5
}
